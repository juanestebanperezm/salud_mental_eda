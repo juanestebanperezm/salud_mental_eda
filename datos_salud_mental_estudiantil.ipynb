{
  "nbformat": 4,
  "nbformat_minor": 0,
  "metadata": {
    "colab": {
      "name": "datos_salud_mental_estudiantil.ipynb",
      "provenance": [],
      "authorship_tag": "ABX9TyMLQE975GahlXvwRym9wbQt",
      "include_colab_link": true
    },
    "kernelspec": {
      "name": "python3",
      "display_name": "Python 3"
    },
    "language_info": {
      "name": "python"
    }
  },
  "cells": [
    {
      "cell_type": "markdown",
      "metadata": {
        "id": "view-in-github",
        "colab_type": "text"
      },
      "source": [
        "<a href=\"https://colab.research.google.com/github/juanestebanperezm/salud_mental_eda/blob/main/datos_salud_mental_estudiantil.ipynb\" target=\"_parent\"><img src=\"https://colab.research.google.com/assets/colab-badge.svg\" alt=\"Open In Colab\"/></a>"
      ]
    },
    {
      "cell_type": "code",
      "execution_count": null,
      "metadata": {
        "colab": {
          "base_uri": "https://localhost:8080/",
          "height": 423
        },
        "id": "jP3K8qd-2L45",
        "outputId": "7fc12cdf-1005-4278-ba54-1e32d0db1c26"
      },
      "outputs": [
        {
          "output_type": "execute_result",
          "data": {
            "text/plain": [
              "               Timestamp  genero   Age             carrera semestre  \\\n",
              "0         8/7/2020 12:02  Female  18.0         Engineering   year 1   \n",
              "1         8/7/2020 12:04    Male  21.0   Islamic education   year 2   \n",
              "2         8/7/2020 12:05    Male  19.0                 BIT   Year 1   \n",
              "3         8/7/2020 12:06  Female  22.0                Laws   year 3   \n",
              "4         8/7/2020 12:13    Male  23.0        Mathemathics   year 4   \n",
              "..                   ...     ...   ...                 ...      ...   \n",
              "96   13/07/2020 19:56:49  Female  21.0                 BCS   year 1   \n",
              "97   13/07/2020 21:21:42    Male  18.0         Engineering   Year 2   \n",
              "98   13/07/2020 21:22:56  Female  19.0            Nursing    Year 3   \n",
              "99   13/07/2020 21:23:57  Female  23.0    Pendidikan Islam   year 4   \n",
              "100  18/07/2020 20:16:21    Male  20.0  Biomedical science   Year 2   \n",
              "\n",
              "    What is your CGPA? estado civil depresivo ansiedad panico tratamiento  \n",
              "0          3.00 - 3.49           No       Yes       No    Yes          No  \n",
              "1          3.00 - 3.49           No        No      Yes     No          No  \n",
              "2          3.00 - 3.49           No       Yes      Yes    Yes          No  \n",
              "3          3.00 - 3.49          Yes       Yes       No     No          No  \n",
              "4          3.00 - 3.49           No        No       No     No          No  \n",
              "..                 ...          ...       ...      ...    ...         ...  \n",
              "96         3.50 - 4.00           No        No      Yes     No          No  \n",
              "97         3.00 - 3.49           No       Yes      Yes     No          No  \n",
              "98         3.50 - 4.00          Yes       Yes       No    Yes          No  \n",
              "99         3.50 - 4.00           No        No       No     No          No  \n",
              "100        3.00 - 3.49           No        No       No     No          No  \n",
              "\n",
              "[101 rows x 11 columns]"
            ],
            "text/html": [
              "\n",
              "  <div id=\"df-590fb809-c07c-40a5-b6b3-c8c5e14124b8\">\n",
              "    <div class=\"colab-df-container\">\n",
              "      <div>\n",
              "<style scoped>\n",
              "    .dataframe tbody tr th:only-of-type {\n",
              "        vertical-align: middle;\n",
              "    }\n",
              "\n",
              "    .dataframe tbody tr th {\n",
              "        vertical-align: top;\n",
              "    }\n",
              "\n",
              "    .dataframe thead th {\n",
              "        text-align: right;\n",
              "    }\n",
              "</style>\n",
              "<table border=\"1\" class=\"dataframe\">\n",
              "  <thead>\n",
              "    <tr style=\"text-align: right;\">\n",
              "      <th></th>\n",
              "      <th>Timestamp</th>\n",
              "      <th>genero</th>\n",
              "      <th>Age</th>\n",
              "      <th>carrera</th>\n",
              "      <th>semestre</th>\n",
              "      <th>What is your CGPA?</th>\n",
              "      <th>estado civil</th>\n",
              "      <th>depresivo</th>\n",
              "      <th>ansiedad</th>\n",
              "      <th>panico</th>\n",
              "      <th>tratamiento</th>\n",
              "    </tr>\n",
              "  </thead>\n",
              "  <tbody>\n",
              "    <tr>\n",
              "      <th>0</th>\n",
              "      <td>8/7/2020 12:02</td>\n",
              "      <td>Female</td>\n",
              "      <td>18.0</td>\n",
              "      <td>Engineering</td>\n",
              "      <td>year 1</td>\n",
              "      <td>3.00 - 3.49</td>\n",
              "      <td>No</td>\n",
              "      <td>Yes</td>\n",
              "      <td>No</td>\n",
              "      <td>Yes</td>\n",
              "      <td>No</td>\n",
              "    </tr>\n",
              "    <tr>\n",
              "      <th>1</th>\n",
              "      <td>8/7/2020 12:04</td>\n",
              "      <td>Male</td>\n",
              "      <td>21.0</td>\n",
              "      <td>Islamic education</td>\n",
              "      <td>year 2</td>\n",
              "      <td>3.00 - 3.49</td>\n",
              "      <td>No</td>\n",
              "      <td>No</td>\n",
              "      <td>Yes</td>\n",
              "      <td>No</td>\n",
              "      <td>No</td>\n",
              "    </tr>\n",
              "    <tr>\n",
              "      <th>2</th>\n",
              "      <td>8/7/2020 12:05</td>\n",
              "      <td>Male</td>\n",
              "      <td>19.0</td>\n",
              "      <td>BIT</td>\n",
              "      <td>Year 1</td>\n",
              "      <td>3.00 - 3.49</td>\n",
              "      <td>No</td>\n",
              "      <td>Yes</td>\n",
              "      <td>Yes</td>\n",
              "      <td>Yes</td>\n",
              "      <td>No</td>\n",
              "    </tr>\n",
              "    <tr>\n",
              "      <th>3</th>\n",
              "      <td>8/7/2020 12:06</td>\n",
              "      <td>Female</td>\n",
              "      <td>22.0</td>\n",
              "      <td>Laws</td>\n",
              "      <td>year 3</td>\n",
              "      <td>3.00 - 3.49</td>\n",
              "      <td>Yes</td>\n",
              "      <td>Yes</td>\n",
              "      <td>No</td>\n",
              "      <td>No</td>\n",
              "      <td>No</td>\n",
              "    </tr>\n",
              "    <tr>\n",
              "      <th>4</th>\n",
              "      <td>8/7/2020 12:13</td>\n",
              "      <td>Male</td>\n",
              "      <td>23.0</td>\n",
              "      <td>Mathemathics</td>\n",
              "      <td>year 4</td>\n",
              "      <td>3.00 - 3.49</td>\n",
              "      <td>No</td>\n",
              "      <td>No</td>\n",
              "      <td>No</td>\n",
              "      <td>No</td>\n",
              "      <td>No</td>\n",
              "    </tr>\n",
              "    <tr>\n",
              "      <th>...</th>\n",
              "      <td>...</td>\n",
              "      <td>...</td>\n",
              "      <td>...</td>\n",
              "      <td>...</td>\n",
              "      <td>...</td>\n",
              "      <td>...</td>\n",
              "      <td>...</td>\n",
              "      <td>...</td>\n",
              "      <td>...</td>\n",
              "      <td>...</td>\n",
              "      <td>...</td>\n",
              "    </tr>\n",
              "    <tr>\n",
              "      <th>96</th>\n",
              "      <td>13/07/2020 19:56:49</td>\n",
              "      <td>Female</td>\n",
              "      <td>21.0</td>\n",
              "      <td>BCS</td>\n",
              "      <td>year 1</td>\n",
              "      <td>3.50 - 4.00</td>\n",
              "      <td>No</td>\n",
              "      <td>No</td>\n",
              "      <td>Yes</td>\n",
              "      <td>No</td>\n",
              "      <td>No</td>\n",
              "    </tr>\n",
              "    <tr>\n",
              "      <th>97</th>\n",
              "      <td>13/07/2020 21:21:42</td>\n",
              "      <td>Male</td>\n",
              "      <td>18.0</td>\n",
              "      <td>Engineering</td>\n",
              "      <td>Year 2</td>\n",
              "      <td>3.00 - 3.49</td>\n",
              "      <td>No</td>\n",
              "      <td>Yes</td>\n",
              "      <td>Yes</td>\n",
              "      <td>No</td>\n",
              "      <td>No</td>\n",
              "    </tr>\n",
              "    <tr>\n",
              "      <th>98</th>\n",
              "      <td>13/07/2020 21:22:56</td>\n",
              "      <td>Female</td>\n",
              "      <td>19.0</td>\n",
              "      <td>Nursing</td>\n",
              "      <td>Year 3</td>\n",
              "      <td>3.50 - 4.00</td>\n",
              "      <td>Yes</td>\n",
              "      <td>Yes</td>\n",
              "      <td>No</td>\n",
              "      <td>Yes</td>\n",
              "      <td>No</td>\n",
              "    </tr>\n",
              "    <tr>\n",
              "      <th>99</th>\n",
              "      <td>13/07/2020 21:23:57</td>\n",
              "      <td>Female</td>\n",
              "      <td>23.0</td>\n",
              "      <td>Pendidikan Islam</td>\n",
              "      <td>year 4</td>\n",
              "      <td>3.50 - 4.00</td>\n",
              "      <td>No</td>\n",
              "      <td>No</td>\n",
              "      <td>No</td>\n",
              "      <td>No</td>\n",
              "      <td>No</td>\n",
              "    </tr>\n",
              "    <tr>\n",
              "      <th>100</th>\n",
              "      <td>18/07/2020 20:16:21</td>\n",
              "      <td>Male</td>\n",
              "      <td>20.0</td>\n",
              "      <td>Biomedical science</td>\n",
              "      <td>Year 2</td>\n",
              "      <td>3.00 - 3.49</td>\n",
              "      <td>No</td>\n",
              "      <td>No</td>\n",
              "      <td>No</td>\n",
              "      <td>No</td>\n",
              "      <td>No</td>\n",
              "    </tr>\n",
              "  </tbody>\n",
              "</table>\n",
              "<p>101 rows × 11 columns</p>\n",
              "</div>\n",
              "      <button class=\"colab-df-convert\" onclick=\"convertToInteractive('df-590fb809-c07c-40a5-b6b3-c8c5e14124b8')\"\n",
              "              title=\"Convert this dataframe to an interactive table.\"\n",
              "              style=\"display:none;\">\n",
              "        \n",
              "  <svg xmlns=\"http://www.w3.org/2000/svg\" height=\"24px\"viewBox=\"0 0 24 24\"\n",
              "       width=\"24px\">\n",
              "    <path d=\"M0 0h24v24H0V0z\" fill=\"none\"/>\n",
              "    <path d=\"M18.56 5.44l.94 2.06.94-2.06 2.06-.94-2.06-.94-.94-2.06-.94 2.06-2.06.94zm-11 1L8.5 8.5l.94-2.06 2.06-.94-2.06-.94L8.5 2.5l-.94 2.06-2.06.94zm10 10l.94 2.06.94-2.06 2.06-.94-2.06-.94-.94-2.06-.94 2.06-2.06.94z\"/><path d=\"M17.41 7.96l-1.37-1.37c-.4-.4-.92-.59-1.43-.59-.52 0-1.04.2-1.43.59L10.3 9.45l-7.72 7.72c-.78.78-.78 2.05 0 2.83L4 21.41c.39.39.9.59 1.41.59.51 0 1.02-.2 1.41-.59l7.78-7.78 2.81-2.81c.8-.78.8-2.07 0-2.86zM5.41 20L4 18.59l7.72-7.72 1.47 1.35L5.41 20z\"/>\n",
              "  </svg>\n",
              "      </button>\n",
              "      \n",
              "  <style>\n",
              "    .colab-df-container {\n",
              "      display:flex;\n",
              "      flex-wrap:wrap;\n",
              "      gap: 12px;\n",
              "    }\n",
              "\n",
              "    .colab-df-convert {\n",
              "      background-color: #E8F0FE;\n",
              "      border: none;\n",
              "      border-radius: 50%;\n",
              "      cursor: pointer;\n",
              "      display: none;\n",
              "      fill: #1967D2;\n",
              "      height: 32px;\n",
              "      padding: 0 0 0 0;\n",
              "      width: 32px;\n",
              "    }\n",
              "\n",
              "    .colab-df-convert:hover {\n",
              "      background-color: #E2EBFA;\n",
              "      box-shadow: 0px 1px 2px rgba(60, 64, 67, 0.3), 0px 1px 3px 1px rgba(60, 64, 67, 0.15);\n",
              "      fill: #174EA6;\n",
              "    }\n",
              "\n",
              "    [theme=dark] .colab-df-convert {\n",
              "      background-color: #3B4455;\n",
              "      fill: #D2E3FC;\n",
              "    }\n",
              "\n",
              "    [theme=dark] .colab-df-convert:hover {\n",
              "      background-color: #434B5C;\n",
              "      box-shadow: 0px 1px 3px 1px rgba(0, 0, 0, 0.15);\n",
              "      filter: drop-shadow(0px 1px 2px rgba(0, 0, 0, 0.3));\n",
              "      fill: #FFFFFF;\n",
              "    }\n",
              "  </style>\n",
              "\n",
              "      <script>\n",
              "        const buttonEl =\n",
              "          document.querySelector('#df-590fb809-c07c-40a5-b6b3-c8c5e14124b8 button.colab-df-convert');\n",
              "        buttonEl.style.display =\n",
              "          google.colab.kernel.accessAllowed ? 'block' : 'none';\n",
              "\n",
              "        async function convertToInteractive(key) {\n",
              "          const element = document.querySelector('#df-590fb809-c07c-40a5-b6b3-c8c5e14124b8');\n",
              "          const dataTable =\n",
              "            await google.colab.kernel.invokeFunction('convertToInteractive',\n",
              "                                                     [key], {});\n",
              "          if (!dataTable) return;\n",
              "\n",
              "          const docLinkHtml = 'Like what you see? Visit the ' +\n",
              "            '<a target=\"_blank\" href=https://colab.research.google.com/notebooks/data_table.ipynb>data table notebook</a>'\n",
              "            + ' to learn more about interactive tables.';\n",
              "          element.innerHTML = '';\n",
              "          dataTable['output_type'] = 'display_data';\n",
              "          await google.colab.output.renderOutput(dataTable, element);\n",
              "          const docLink = document.createElement('div');\n",
              "          docLink.innerHTML = docLinkHtml;\n",
              "          element.appendChild(docLink);\n",
              "        }\n",
              "      </script>\n",
              "    </div>\n",
              "  </div>\n",
              "  "
            ]
          },
          "metadata": {},
          "execution_count": 12
        }
      ],
      "source": [
        "import pandas as pd\n",
        "import seaborn as sns\n",
        "import matplotlib.pyplot as plt\n",
        "import numpy as np\n",
        "\n",
        "\n",
        "df=pd.read_csv('/content/Student Mental health.csv')\n",
        "\n",
        "\n",
        "\n",
        "df.rename(columns={\"Your current year of Study\":\"semestre\",\"Marital status\":\"estado civil\",\"What is your course?\":\"carrera\",'Choose your gender':'genero','Do you have Depression?':'depresivo','Do you have Anxiety?':'ansiedad',\"Do you have Panic attack?\":'panico','Did you seek any specialist for a treatment?':'tratamiento'},inplace=True)\n",
        "\n",
        "\n",
        "\n"
      ]
    },
    {
      "cell_type": "markdown",
      "source": [
        "<h1>Cual es el genero que mas padece deprenderlo 🎃</h1>"
      ],
      "metadata": {
        "id": "_h4fJQbmPsxv"
      }
    },
    {
      "cell_type": "code",
      "source": [
        "quien_es_mas_depre=df[['genero','depresivo']].groupby('genero').count().reset_index().sort_values(by='genero',ascending=True)\n",
        "\n",
        "\n",
        "sns.catplot(data=quien_es_mas_depre,\n",
        "            x='genero',\n",
        "            y='depresivo',\n",
        "            kind='bar',\n",
        "            palette='Dark2',\n",
        "            aspect=2)\n",
        "plt.title(\"Quien es mas depre\")\n",
        "plt.xticks(rotation=90)\n",
        "plt.ylabel('Conteo de depre')\n",
        "plt.xlabel('genero')\n",
        "plt.show()"
      ],
      "metadata": {
        "colab": {
          "base_uri": "https://localhost:8080/",
          "height": 411
        },
        "id": "PfUIgZ02NbvE",
        "outputId": "8c441005-153e-41cc-b6ad-ff0ec72f79c0"
      },
      "execution_count": null,
      "outputs": [
        {
          "output_type": "display_data",
          "data": {
            "text/plain": [
              "<Figure size 720x360 with 1 Axes>"
            ],
            "image/png": "[encoded data removed]"
          },
          "metadata": {
            "needs_background": "light"
          }
        }
      ]
    },
    {
      "cell_type": "markdown",
      "source": [
        "<h1>Carreras con mas depresivos </h1>"
      ],
      "metadata": {
        "id": "RfVYPviAP4ru"
      }
    },
    {
      "cell_type": "code",
      "source": [
        "carrera_mas_depre=df[['carrera','depresivo']].groupby(\"carrera\").count().sort_values(by=\"depresivo\",ascending=False).reset_index().head(10)\n",
        "\n",
        "sns.catplot(data=carrera_mas_depre,x='carrera',y='depresivo',kind='bar',aspect=2)\n",
        "plt.title('carreras TOP DEPRESION')\n",
        "plt.xticks(rotation=90)\n",
        "plt.xlabel('Carrera')\n",
        "plt.ylabel('nivel de depre x carrera')\n",
        "plt.show()\n",
        "\n",
        "#BCS Bacheloor of computer science Licenciado en Ciencias de la Computación\n",
        "#BIT Licenciatura en Tecnología de la Información\n",
        "#Ingenieria \n"
      ],
      "metadata": {
        "colab": {
          "base_uri": "https://localhost:8080/",
          "height": 471
        },
        "id": "sRYV1uihOa-Y",
        "outputId": "3bc92003-3854-4a6b-cf3b-de0186cb3ac1"
      },
      "execution_count": null,
      "outputs": [
        {
          "output_type": "display_data",
          "data": {
            "text/plain": [
              "<Figure size 720x360 with 1 Axes>"
            ],
            "image/png": "[encoded data removed]"
          },
          "metadata": {
            "needs_background": "light"
          }
        }
      ]
    },
    {
      "cell_type": "markdown",
      "source": [
        "<h1> Oe ya todo el mundo padece de todo? si o que? yo no se, yo no soy sicologo nea </h1>"
      ],
      "metadata": {
        "id": "Iquw12LjQXn6"
      }
    },
    {
      "cell_type": "code",
      "source": [
        "panico=df[['genero','panico']].groupby('genero').count().reset_index()\n",
        "\n",
        "sns.catplot(x='genero',y='panico',data=panico,aspect=2,palette='inferno',kind='bar')\n",
        "plt.title('Quien tiene mas panico')\n",
        "plt.xlabel('Genero')\n",
        "plt.ylabel('Nivel de panico')\n",
        "plt.show()"
      ],
      "metadata": {
        "colab": {
          "base_uri": "https://localhost:8080/",
          "height": 385
        },
        "id": "mAn5htqAQdg5",
        "outputId": "ea2cfea2-edf1-4f15-b26b-38dd0f160a57"
      },
      "execution_count": null,
      "outputs": [
        {
          "output_type": "display_data",
          "data": {
            "text/plain": [
              "<Figure size 720x360 with 1 Axes>"
            ],
            "image/png": "[encoded data removed]"
          },
          "metadata": {
            "needs_background": "light"
          }
        }
      ]
    },
    {
      "cell_type": "code",
      "source": [
        "tratamiento_=df[['genero','tratamiento']].groupby('genero').count().reset_index()\n",
        "\n",
        "sns.catplot(data=tratamiento_,x='genero',y='tratamiento',kind='bar',aspect=2,palette='inferno')"
      ],
      "metadata": {
        "colab": {
          "base_uri": "https://localhost:8080/",
          "height": 387
        },
        "id": "Z3c1YQO7RKCb",
        "outputId": "5e120682-03b4-491d-81e5-772e3fbb5448"
      },
      "execution_count": null,
      "outputs": [
        {
          "output_type": "execute_result",
          "data": {
            "text/plain": [
              "<seaborn.axisgrid.FacetGrid at 0x7fdb7f00e190>"
            ]
          },
          "metadata": {},
          "execution_count": 46
        },
        {
          "output_type": "display_data",
          "data": {
            "text/plain": [
              "<Figure size 720x360 with 1 Axes>"
            ],
            "image/png": "[encoded data removed]"
          },
          "metadata": {
            "needs_background": "light"
          }
        }
      ]
    },
    {
      "cell_type": "markdown",
      "source": [
        "<h1>Chimbadas mas comunes en los estudiantes <h1>"
      ],
      "metadata": {
        "id": "1aNjLv-TUgEX"
      }
    },
    {
      "cell_type": "code",
      "source": [
        ""
      ],
      "metadata": {
        "id": "6HJqaXTjVqhc"
      },
      "execution_count": null,
      "outputs": []
    },
    {
      "cell_type": "code",
      "source": [
        "df2=pd.read_csv(\"/content/Student Mental health.csv\")\n",
        "df2.columns\n",
        "for i in list(df2.columns):\n",
        "    df2 = df2.replace({str(i): {'Yes': True,'No': False}})\n",
        "\n",
        "depression = list(df2['Do you have Depression?'])\n",
        "anxiety = list(df2['Do you have Anxiety?'])\n",
        "panic_attacks = list(df2['Do you have Panic attack?'])\n",
        "\n",
        "result = list(zip(depression, anxiety, panic_attacks))\n",
        "\n",
        "dap = []\n",
        "for i in result:\n",
        "    if any(i):\n",
        "        dap.append(True)\n",
        "    elif any(i) == False:\n",
        "        dap.append(False)\n",
        "    else:\n",
        "        print(\"Problem\")\n",
        "\n",
        "\n",
        "illness_name = ['depresivo', 'ansiedad', 'panico', \"no daps\", \"daps\"]\n",
        "illness = [sum(depression), sum(anxiety), sum(panic_attacks), len(df2)-sum(dap), sum(dap)]\n",
        "illness_count = list(zip(illness_name, illness))\n",
        "illness_count"
      ],
      "metadata": {
        "colab": {
          "base_uri": "https://localhost:8080/"
        },
        "id": "1qFiaGLXUjnf",
        "outputId": "ba7ef74a-90ec-4be5-a70f-5ac364f312e1"
      },
      "execution_count": null,
      "outputs": [
        {
          "output_type": "execute_result",
          "data": {
            "text/plain": [
              "[('depresivo', 35),\n",
              " ('ansiedad', 34),\n",
              " ('panico', 33),\n",
              " ('no daps', 37),\n",
              " ('daps', 64)]"
            ]
          },
          "metadata": {},
          "execution_count": 63
        }
      ]
    },
    {
      "cell_type": "code",
      "source": [
        "plt.figure(figsize=(10,10))\n",
        "colors = \"hotpink\",\"lightblue\",\"lightcoral\",\"lightgreen\",\"black\"\n",
        "plt.bar(illness_name,illness, color = colors)\n",
        "plt.title(\"Enfermedad\")\n",
        "plt.show()\n"
      ],
      "metadata": {
        "colab": {
          "base_uri": "https://localhost:8080/",
          "height": 607
        },
        "id": "j8sOFtaWVS8N",
        "outputId": "929782d2-006c-4cc8-db2c-9c7303f04403"
      },
      "execution_count": null,
      "outputs": [
        {
          "output_type": "display_data",
          "data": {
            "text/plain": [
              "<Figure size 720x720 with 1 Axes>"
            ],
            "image/png": "[encoded data removed]"
          },
          "metadata": {
            "needs_background": "light"
          }
        }
      ]
    },
    {
      "cell_type": "markdown",
      "source": [
        "<h1>Estado civil de los depre</h1>"
      ],
      "metadata": {
        "id": "pZQ7BUL6Wu4Y"
      }
    },
    {
      "cell_type": "code",
      "source": [
        "depre_c=df[['estado civil','depresivo']].groupby('estado civil').count().reset_index()\n",
        "\n",
        "\n",
        "sns.catplot(x='estado civil',y='depresivo',data=depre_c,kind='bar',aspect=1,palette='hsv')\n",
        "\n",
        "plt.title('Quien es mas depre? solteros o casados')\n",
        "plt.show()"
      ],
      "metadata": {
        "colab": {
          "base_uri": "https://localhost:8080/",
          "height": 385
        },
        "id": "sfK85FjCWyJq",
        "outputId": "c3452fd2-7a47-43bc-a311-42077e2a77be"
      },
      "execution_count": null,
      "outputs": [
        {
          "output_type": "display_data",
          "data": {
            "text/plain": [
              "<Figure size 360x360 with 1 Axes>"
            ],
            "image/png": "[encoded data removed]"
          },
          "metadata": {
            "needs_background": "light"
          }
        }
      ]
    }
  ]
}